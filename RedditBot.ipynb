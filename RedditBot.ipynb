{
 "cells": [
  {
   "cell_type": "code",
   "execution_count": null,
   "metadata": {},
   "outputs": [],
   "source": [
    "CLIENT_ID = 'DdP1Md5hVwSP-A'\n",
    "\n",
    "with open('secretkey.txt', 'r') as f:\n",
    "    secretkey = f.read()\n",
    "    \n",
    "SECRET_KEY = secretkey\n",
    "\n",
    "import requests\n",
    "\n",
    "# note that CLIENT_ID refers to 'personal use script' and SECRET_TOKEN to 'token'\n",
    "auth = requests.auth.HTTPBasicAuth(CLIENT_ID, SECRET_KEY)\n",
    "\n",
    "with open('pw.txt', 'r') as f:\n",
    "    pw = f.read()\n",
    "\n",
    "# here we pass our login method (password), username, and password\n",
    "data = {'grant_type': 'password',\n",
    "        'username': 'RedditBot345',\n",
    "        'password': pw}\n",
    "\n",
    "# setup our header info, which gives reddit a brief description of our app\n",
    "headers = {'User-Agent': 'MyBot/0.0.1'}\n",
    "\n",
    "# send our request for an OAuth token\n",
    "res = requests.post('https://www.reddit.com/api/v1/access_token',\n",
    "                    auth=auth, data=data, headers=headers)\n",
    "\n",
    "# convert response to JSON and pull access_token value\n",
    "TOKEN = res.json()['access_token']\n",
    "\n",
    "# add authorization to our headers dictionary\n",
    "headers = {**headers, **{'Authorization': f\"bearer {TOKEN}\"}}\n",
    "\n",
    "sub = input(\"What subreddit do you want to search?\")\n",
    "\n",
    "# make a request for the trending posts in /r/Python\n",
    "res = requests.get(\"https://oauth.reddit.com/r/\" + sub,\n",
    "                   headers=headers)\n",
    "\n",
    "import pandas as pd\n",
    "df = pd.DataFrame()  # initialize dataframe\n",
    "\n",
    "# loop through each post retrieved from GET request\n",
    "for post in res.json()['data']['children']:\n",
    "    # append relevant data to dataframe\n",
    "    df = df.append({\n",
    "        'subreddit': post['data']['subreddit'],\n",
    "        'title': post['data']['title'],\n",
    "        'selftext': post['data']['selftext'],\n",
    "        'upvote_ratio': post['data']['upvote_ratio'],\n",
    "        'ups': post['data']['ups'],\n",
    "        'downs': post['data']['downs'],\n",
    "        'score': post['data']['score']\n",
    "    }, ignore_index=True)\n",
    "    \n",
    "df"
   ]
  },
  {
   "cell_type": "code",
   "execution_count": null,
   "metadata": {},
   "outputs": [],
   "source": []
  },
  {
   "cell_type": "code",
   "execution_count": null,
   "metadata": {},
   "outputs": [],
   "source": []
  },
  {
   "cell_type": "code",
   "execution_count": null,
   "metadata": {},
   "outputs": [],
   "source": []
  }
 ],
 "metadata": {
  "kernelspec": {
   "display_name": "Python 3",
   "language": "python",
   "name": "python3"
  },
  "language_info": {
   "codemirror_mode": {
    "name": "ipython",
    "version": 3
   },
   "file_extension": ".py",
   "mimetype": "text/x-python",
   "name": "python",
   "nbconvert_exporter": "python",
   "pygments_lexer": "ipython3",
   "version": "3.8.5"
  }
 },
 "nbformat": 4,
 "nbformat_minor": 4
}
